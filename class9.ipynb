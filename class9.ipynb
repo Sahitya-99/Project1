{
  "nbformat": 4,
  "nbformat_minor": 0,
  "metadata": {
    "colab": {
      "provenance": [],
      "mount_file_id": "1QfbycWCt8_J61aaCsMyVlUXDx2ntiL-F",
      "authorship_tag": "ABX9TyPXo38B5nFU9JY9RW4x8qui",
      "include_colab_link": true
    },
    "kernelspec": {
      "name": "python3",
      "display_name": "Python 3"
    },
    "language_info": {
      "name": "python"
    }
  },
  "cells": [
    {
      "cell_type": "markdown",
      "metadata": {
        "id": "view-in-github",
        "colab_type": "text"
      },
      "source": [
        "<a href=\"https://colab.research.google.com/github/Sahitya-99/Project1/blob/master/class9.ipynb\" target=\"_parent\"><img src=\"https://colab.research.google.com/assets/colab-badge.svg\" alt=\"Open In Colab\"/></a>"
      ]
    },
    {
      "cell_type": "code",
      "execution_count": null,
      "metadata": {
        "colab": {
          "base_uri": "https://localhost:8080/"
        },
        "id": "YxxJmHr_uDfm",
        "outputId": "3fa5ba04-db7d-4214-cef6-0b33afb62226"
      },
      "outputs": [
        {
          "output_type": "stream",
          "name": "stdout",
          "text": [
            "10 11 12 13 14 15 16 17 18 19 20 "
          ]
        }
      ],
      "source": [
        "for a in range (10,21):\n",
        "  print(a,end=\" \")"
      ]
    },
    {
      "cell_type": "code",
      "source": [
        "from google.colab import drive\n",
        "drive.mount('/content/drive')"
      ],
      "metadata": {
        "id": "p44jH79KKgo3"
      },
      "execution_count": null,
      "outputs": []
    },
    {
      "cell_type": "code",
      "source": [
        "for a in range (1,8):\n",
        "  print(\"i love python\")"
      ],
      "metadata": {
        "colab": {
          "base_uri": "https://localhost:8080/"
        },
        "id": "01LkfRPh-R7f",
        "outputId": "23b1384a-a67f-4dec-9652-d2b52bbf034b"
      },
      "execution_count": null,
      "outputs": [
        {
          "output_type": "stream",
          "name": "stdout",
          "text": [
            "i love python\n",
            "i love python\n",
            "i love python\n",
            "i love python\n",
            "i love python\n",
            "i love python\n",
            "i love python\n"
          ]
        }
      ]
    },
    {
      "cell_type": "code",
      "source": [
        "a=[1,2,3,4,5,32,113,14]\n",
        "for i in a:\n",
        "  print(\"i love u\")"
      ],
      "metadata": {
        "colab": {
          "base_uri": "https://localhost:8080/"
        },
        "id": "ppMqOCD3_wYG",
        "outputId": "7f64cd1d-31b6-4522-c400-4adaba03e7a7"
      },
      "execution_count": null,
      "outputs": [
        {
          "output_type": "stream",
          "name": "stdout",
          "text": [
            "i love u\n",
            "i love u\n",
            "i love u\n",
            "i love u\n",
            "i love u\n",
            "i love u\n",
            "i love u\n",
            "i love u\n"
          ]
        }
      ]
    },
    {
      "cell_type": "code",
      "source": [
        "\n",
        "for i in range(5,0,-1):\n",
        "  print(i)\n",
        "  i = i-1\n",
        "print(\"finished\")"
      ],
      "metadata": {
        "colab": {
          "base_uri": "https://localhost:8080/"
        },
        "id": "kbPPRxeoAYAI",
        "outputId": "6c18d9e3-f2c4-4fe6-eae1-fa481a5214f5"
      },
      "execution_count": null,
      "outputs": [
        {
          "output_type": "stream",
          "name": "stdout",
          "text": [
            "5\n",
            "4\n",
            "3\n",
            "2\n",
            "1\n",
            "finished\n"
          ]
        }
      ]
    },
    {
      "cell_type": "code",
      "source": [
        "for i in range(0,6):\n",
        "  print(i*'&', end=\"\\n\")"
      ],
      "metadata": {
        "colab": {
          "base_uri": "https://localhost:8080/"
        },
        "id": "hiC3B1ssDPD3",
        "outputId": "5d6cfa4a-0187-4d8e-a18b-373bbb4877cc"
      },
      "execution_count": null,
      "outputs": [
        {
          "output_type": "stream",
          "name": "stdout",
          "text": [
            "\n",
            "&\n",
            "&&\n",
            "&&&\n",
            "&&&&\n",
            "&&&&&\n"
          ]
        }
      ]
    },
    {
      "cell_type": "code",
      "source": [
        "for i in range(1,6):\n",
        "  for j in range(1,i+1):\n",
        "    print(j,end=\" \")\n",
        "  print()"
      ],
      "metadata": {
        "colab": {
          "base_uri": "https://localhost:8080/"
        },
        "id": "wMoZaD6xJgax",
        "outputId": "8f719e16-95f9-4e4e-ce5a-849b9cdbbab2"
      },
      "execution_count": null,
      "outputs": [
        {
          "output_type": "stream",
          "name": "stdout",
          "text": [
            "1 \n",
            "1 2 \n",
            "1 2 3 \n",
            "1 2 3 4 \n",
            "1 2 3 4 5 \n"
          ]
        }
      ]
    },
    {
      "cell_type": "code",
      "source": [
        "print()"
      ],
      "metadata": {
        "colab": {
          "base_uri": "https://localhost:8080/"
        },
        "id": "UKmSrJR7NElK",
        "outputId": "e48d67a9-80de-42fa-863c-ac1cab7450f8"
      },
      "execution_count": null,
      "outputs": [
        {
          "output_type": "stream",
          "name": "stdout",
          "text": [
            "\n"
          ]
        }
      ]
    },
    {
      "cell_type": "code",
      "source": [
        "l=[0,20,40]\n",
        "for i in l:\n",
        "  sum = sum+i\n",
        "  print(sum)\n",
        "print(sum)"
      ],
      "metadata": {
        "colab": {
          "base_uri": "https://localhost:8080/"
        },
        "id": "lg8wpdhHNG-1",
        "outputId": "ed97f3af-06ee-46de-d948-5157430dbec7"
      },
      "execution_count": null,
      "outputs": [
        {
          "output_type": "stream",
          "name": "stdout",
          "text": [
            "990\n",
            "1010\n",
            "1050\n",
            "1050\n"
          ]
        }
      ]
    },
    {
      "cell_type": "code",
      "source": [
        "k=[1,2,3,4,5]\n",
        "t=0\n",
        "for i in k:\n",
        "  t=t+i\n",
        "print(t)\n"
      ],
      "metadata": {
        "colab": {
          "base_uri": "https://localhost:8080/"
        },
        "id": "kbvTHh7PQwRz",
        "outputId": "d9d29567-32d7-40c4-dd62-ed3008c00e16"
      },
      "execution_count": null,
      "outputs": [
        {
          "output_type": "stream",
          "name": "stdout",
          "text": [
            "15\n"
          ]
        }
      ]
    },
    {
      "cell_type": "code",
      "source": [
        "#### pattern priniting\n",
        "marks=[90,56,78,34,23] # >50 pass <50 fail\n",
        "for i in marks:\n",
        "  if (i>50):\n",
        "    print(i,\"candidate pass\")\n",
        "  else:\n",
        "    print(f\"{i} candidate fail\")"
      ],
      "metadata": {
        "colab": {
          "base_uri": "https://localhost:8080/"
        },
        "id": "562rohDB4Qzo",
        "outputId": "2b52da47-6b94-430e-9775-e30c00509477"
      },
      "execution_count": null,
      "outputs": [
        {
          "output_type": "stream",
          "name": "stdout",
          "text": [
            "90 candidate pass\n",
            "56 candidate pass\n",
            "78 candidate pass\n",
            "34 candidate fail\n",
            "23 candidate fail\n"
          ]
        }
      ]
    },
    {
      "cell_type": "code",
      "source": [
        "## n=5(1,)\n",
        "for i in range(1,6):\n",
        "  for j in range(1,i+1):\n",
        "    print((5-i)*\" \")"
      ],
      "metadata": {
        "colab": {
          "base_uri": "https://localhost:8080/"
        },
        "id": "mKaAxX_14Q21",
        "outputId": "bf9eeac8-5be6-4ec5-e46b-44468afb61ff"
      },
      "execution_count": null,
      "outputs": [
        {
          "output_type": "stream",
          "name": "stdout",
          "text": [
            "    \n",
            "   \n",
            "   \n",
            "  \n",
            "  \n",
            "  \n",
            " \n",
            " \n",
            " \n",
            " \n",
            "\n",
            "\n",
            "\n",
            "\n",
            "\n"
          ]
        }
      ]
    },
    {
      "cell_type": "code",
      "source": [
        "for i in range(1,6):\n",
        "  for j in range(1,i+1):\n",
        "    print(j,end=\" \")\n",
        "  print()"
      ],
      "metadata": {
        "id": "f4oIPwdB4RDF"
      },
      "execution_count": null,
      "outputs": []
    },
    {
      "cell_type": "code",
      "source": [
        "for i in range(0,6):\n",
        "  print(i*'&', end=\"\\n\")"
      ],
      "metadata": {
        "colab": {
          "base_uri": "https://localhost:8080/"
        },
        "id": "lYqS6Djb4RHL",
        "outputId": "f9b2668d-decf-41e8-f123-2d84e543772e"
      },
      "execution_count": null,
      "outputs": [
        {
          "output_type": "stream",
          "name": "stdout",
          "text": [
            "\n",
            "&\n",
            "&&\n",
            "&&&\n",
            "&&&&\n",
            "&&&&&\n"
          ]
        }
      ]
    },
    {
      "cell_type": "code",
      "source": [
        "n=5\n",
        "for i in range(1,5):\n",
        "  print(\" \" *(n-i) +i *\"*\")"
      ],
      "metadata": {
        "colab": {
          "base_uri": "https://localhost:8080/"
        },
        "id": "sZ0YPQmw4RMN",
        "outputId": "28946e66-b093-44a3-940c-9ce52a9d3958"
      },
      "execution_count": null,
      "outputs": [
        {
          "output_type": "stream",
          "name": "stdout",
          "text": [
            "    *\n",
            "   **\n",
            "  ***\n",
            " ****\n"
          ]
        }
      ]
    },
    {
      "cell_type": "code",
      "source": [
        "i = 1\n",
        "while i<=5:\n",
        "  print(i)\n",
        "  i=i+1"
      ],
      "metadata": {
        "colab": {
          "base_uri": "https://localhost:8080/"
        },
        "id": "uCgK8rJHEBNn",
        "outputId": "5a4f6bc0-624a-4795-e953-8dd3650875f5"
      },
      "execution_count": null,
      "outputs": [
        {
          "output_type": "stream",
          "name": "stdout",
          "text": [
            "1\n",
            "2\n",
            "3\n",
            "4\n",
            "5\n"
          ]
        }
      ]
    },
    {
      "cell_type": "code",
      "source": [
        "c=8\n",
        "while c>0:\n",
        "  print(c)\n",
        "  c=c-1\n",
        "print(\"times up\")"
      ],
      "metadata": {
        "colab": {
          "base_uri": "https://localhost:8080/"
        },
        "id": "o4IijhnYJJik",
        "outputId": "53a18b27-d968-48db-d58b-61d48283d137"
      },
      "execution_count": null,
      "outputs": [
        {
          "output_type": "stream",
          "name": "stdout",
          "text": [
            "8\n",
            "7\n",
            "6\n",
            "5\n",
            "4\n",
            "3\n",
            "2\n",
            "1\n",
            "times up\n"
          ]
        }
      ]
    },
    {
      "cell_type": "code",
      "source": [
        "# Keep Asking until user types exit\n",
        "\n",
        "#Step1: Initialize\n",
        "\n",
        "text=\"\"\n",
        "\n",
        "#Step2: While Condition\n",
        "\n",
        "while text!= \"exit\":\n",
        "    text=input(\"Type Something or Press exit to quit/cancel\")\n",
        "    print(f\" You Typed: {text}\")\n"
      ],
      "metadata": {
        "colab": {
          "base_uri": "https://localhost:8080/"
        },
        "id": "xq0fuWOuKiaV",
        "outputId": "4d984ee2-ab2f-4189-e68b-eeb2fec27aba"
      },
      "execution_count": null,
      "outputs": [
        {
          "output_type": "stream",
          "name": "stdout",
          "text": [
            "Type Something or Press exit to quit/cancelexit\n",
            " You Typed: exit\n"
          ]
        }
      ]
    },
    {
      "cell_type": "code",
      "source": [
        "###PATTERN\n",
        "#1 right angke triangle n =4\n",
        "\n",
        "\n",
        "n=4\n",
        "for i in range(1,5):\n",
        "  print(i*'*')"
      ],
      "metadata": {
        "id": "hJNCFLiOJJt8",
        "colab": {
          "base_uri": "https://localhost:8080/"
        },
        "outputId": "d8434f98-b645-41b1-ac1e-028f483ae3e1"
      },
      "execution_count": null,
      "outputs": [
        {
          "output_type": "stream",
          "name": "stdout",
          "text": [
            "*\n",
            "**\n",
            "***\n",
            "****\n"
          ]
        }
      ]
    },
    {
      "cell_type": "code",
      "source": [
        "n=4\n",
        "for i in range(1,5):\n",
        "  for j in range(1,i+1):\n",
        "    print(j,end=\" \")\n",
        "  print()"
      ],
      "metadata": {
        "colab": {
          "base_uri": "https://localhost:8080/"
        },
        "id": "6cMhX7c68n6D",
        "outputId": "5f1b1857-a330-4917-c742-2d5619b1c4fa"
      },
      "execution_count": null,
      "outputs": [
        {
          "output_type": "stream",
          "name": "stdout",
          "text": [
            "1 \n",
            "1 2 \n",
            "1 2 3 \n",
            "1 2 3 4 \n"
          ]
        }
      ]
    },
    {
      "cell_type": "code",
      "source": [
        "n=4\n",
        "for i in range(1,5):\n",
        "  print(\" \"*(n-i) + i*'*')"
      ],
      "metadata": {
        "colab": {
          "base_uri": "https://localhost:8080/"
        },
        "id": "e5NrQJah9S-o",
        "outputId": "3dffd72e-4d76-456a-9597-6b03fc2945ed"
      },
      "execution_count": null,
      "outputs": [
        {
          "output_type": "stream",
          "name": "stdout",
          "text": [
            "   *\n",
            "  **\n",
            " ***\n",
            "****\n"
          ]
        }
      ]
    },
    {
      "cell_type": "code",
      "source": [
        "n=4\n",
        "for i in range (1,n+1):\n",
        "  print(pow(2,i) * \"*\")"
      ],
      "metadata": {
        "colab": {
          "base_uri": "https://localhost:8080/"
        },
        "id": "QY91Cufc9st4",
        "outputId": "91247d94-7ac9-4621-e2b3-72151f9ac708"
      },
      "execution_count": null,
      "outputs": [
        {
          "output_type": "stream",
          "name": "stdout",
          "text": [
            "**\n",
            "****\n",
            "********\n",
            "****************\n"
          ]
        }
      ]
    },
    {
      "cell_type": "code",
      "source": [
        "n=4\n",
        "for i in range(1,n+1):\n",
        "  print(n * \"*\")"
      ],
      "metadata": {
        "colab": {
          "base_uri": "https://localhost:8080/"
        },
        "id": "1R-U55Pf-dKC",
        "outputId": "d538661c-8bb2-4446-db84-c699ff7b51f8"
      },
      "execution_count": null,
      "outputs": [
        {
          "output_type": "stream",
          "name": "stdout",
          "text": [
            "****\n",
            "****\n",
            "****\n",
            "****\n"
          ]
        }
      ]
    },
    {
      "cell_type": "code",
      "source": [
        "n = 4\n",
        "for i in range(1,n+1):\n",
        "  for j in range(i):\n",
        "    print(chr(65+j),end=\" \")\n",
        "  print()"
      ],
      "metadata": {
        "colab": {
          "base_uri": "https://localhost:8080/"
        },
        "id": "kR-cn3jj-t4B",
        "outputId": "da7d90f0-61cd-488e-89d6-088d9aa987e2"
      },
      "execution_count": null,
      "outputs": [
        {
          "output_type": "stream",
          "name": "stdout",
          "text": [
            "A \n",
            "A B \n",
            "A B C \n",
            "A B C D \n"
          ]
        }
      ]
    },
    {
      "cell_type": "code",
      "source": [
        "##1\n",
        "22\n",
        "33\n"
      ],
      "metadata": {
        "id": "C_j9WRu2A6YE"
      },
      "execution_count": null,
      "outputs": []
    },
    {
      "cell_type": "code",
      "source": [
        "n=5\n",
        "for i in range(1,n+1):\n",
        "  print(str(i)*i)"
      ],
      "metadata": {
        "colab": {
          "base_uri": "https://localhost:8080/"
        },
        "id": "3hZ92rS7A9hZ",
        "outputId": "a6c1ae67-3455-4ff2-9799-9d02170d4e34"
      },
      "execution_count": null,
      "outputs": [
        {
          "output_type": "stream",
          "name": "stdout",
          "text": [
            "1\n",
            "22\n",
            "333\n",
            "4444\n",
            "55555\n"
          ]
        }
      ]
    },
    {
      "cell_type": "code",
      "source": [
        "5\n",
        "54\n",
        "543\n",
        "5432\n",
        "54321"
      ],
      "metadata": {
        "colab": {
          "base_uri": "https://localhost:8080/"
        },
        "id": "gZn-mJ5mCkNS",
        "outputId": "ba4ef5ae-c6af-4103-d4ec-da5723866d27"
      },
      "execution_count": null,
      "outputs": [
        {
          "output_type": "execute_result",
          "data": {
            "text/plain": [
              "54321"
            ]
          },
          "metadata": {},
          "execution_count": 32
        }
      ]
    },
    {
      "cell_type": "code",
      "source": [
        "n=5\n",
        "for i in range(n,0,-1):\n",
        "  for j in range(i,0,-1):\n",
        "    print(j, end=\" \")\n",
        "  print()"
      ],
      "metadata": {
        "colab": {
          "base_uri": "https://localhost:8080/"
        },
        "id": "-qjU6gjHCppp",
        "outputId": "86516a67-f32f-4306-d601-15922338aa4b"
      },
      "execution_count": null,
      "outputs": [
        {
          "output_type": "stream",
          "name": "stdout",
          "text": [
            "5 4 3 2 1 \n",
            "4 3 2 1 \n",
            "3 2 1 \n",
            "2 1 \n",
            "1 \n"
          ]
        }
      ]
    },
    {
      "cell_type": "code",
      "source": [
        "n=5\n",
        "for i in range(n,0,-1):\n",
        "  for j in range(0,i):\n",
        "    print(j, end=\" \")\n",
        "  print()"
      ],
      "metadata": {
        "colab": {
          "base_uri": "https://localhost:8080/"
        },
        "id": "T8gn7S05DlOM",
        "outputId": "817761a7-cf9c-4ad9-bcf0-4800df1997bc"
      },
      "execution_count": null,
      "outputs": [
        {
          "output_type": "stream",
          "name": "stdout",
          "text": [
            "0 1 2 3 4 \n",
            "0 1 2 3 \n",
            "0 1 2 \n",
            "0 1 \n",
            "0 \n"
          ]
        }
      ]
    },
    {
      "cell_type": "code",
      "source": [
        "n=4\n",
        "for i in range(n,0,-1):\n",
        "  print(i*\"*\")\n",
        "\n"
      ],
      "metadata": {
        "id": "-2MNS7etJJzz",
        "colab": {
          "base_uri": "https://localhost:8080/"
        },
        "outputId": "2be436d2-d706-48b7-fce0-072cf9d4f7aa"
      },
      "execution_count": null,
      "outputs": [
        {
          "output_type": "stream",
          "name": "stdout",
          "text": [
            "****\n",
            "***\n",
            "**\n",
            "*\n"
          ]
        }
      ]
    }
  ]
}