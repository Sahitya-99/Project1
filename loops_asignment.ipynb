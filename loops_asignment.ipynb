{
  "nbformat": 4,
  "nbformat_minor": 0,
  "metadata": {
    "colab": {
      "provenance": [],
      "authorship_tag": "ABX9TyNx/2R1nfa2xavdTsn0487y",
      "include_colab_link": true
    },
    "kernelspec": {
      "name": "python3",
      "display_name": "Python 3"
    },
    "language_info": {
      "name": "python"
    }
  },
  "cells": [
    {
      "cell_type": "markdown",
      "metadata": {
        "id": "view-in-github",
        "colab_type": "text"
      },
      "source": [
        "<a href=\"https://colab.research.google.com/github/Sahitya-99/Project1/blob/main/loops_asignment.ipynb\" target=\"_parent\"><img src=\"https://colab.research.google.com/assets/colab-badge.svg\" alt=\"Open In Colab\"/></a>"
      ]
    },
    {
      "cell_type": "code",
      "execution_count": 2,
      "metadata": {
        "id": "wLc50cEPN6dM"
      },
      "outputs": [],
      "source": [
        "# #Question 1: ATM PIN\n",
        "\n",
        "# You're building a basic ATM security system. When a user inserts their ATM card, they are asked to enter a 4-digit PIN. The user gets only 3 chances to enter the correct PIN.\n",
        "\n",
        "# If the correct PIN is entered, print \"Access Granted.\"\n",
        "\n",
        "# If the user enters the wrong PIN 3 times in a row, print \"Card Blocked.\"\n",
        "\n",
        "# Write a program using a loop to simulate this behavior. Use the correct PIN as \"1234\" for now."
      ]
    },
    {
      "cell_type": "code",
      "source": [
        "pin='1234'\n",
        "max_attempts=3\n",
        "\n",
        "for i in range(1,4):\n",
        "  enter_pin=input(\"enter ur pin\")\n",
        "  if enter_pin == pin:\n",
        "    print(\"acess granted\")\n",
        "    break\n",
        "  else:\n",
        "    print(\"wrong pin try again\")\n",
        "    max_attempts+=1\n",
        "else:\n",
        "  print(\"access blocked\")"
      ],
      "metadata": {
        "colab": {
          "base_uri": "https://localhost:8080/"
        },
        "id": "M6hxgPUFOGsb",
        "outputId": "5e7dd102-48c6-4176-cee3-4a2a62e4901b"
      },
      "execution_count": 20,
      "outputs": [
        {
          "output_type": "stream",
          "name": "stdout",
          "text": [
            "enter ur pin23\n",
            "wrong pin try again\n",
            "enter ur pin1234\n",
            "acess granted\n"
          ]
        }
      ]
    },
    {
      "cell_type": "code",
      "source": [
        "# Question 2: Reverse a Number\n",
        "\n",
        "# Ask the user to enter an integer number. Your task is to reverse the digits of that number and display the reversed number.\n",
        "\n",
        "# Example:\n",
        "\n",
        "# If the user enters 1234, your program should print 4321.\n",
        "# If they enter 5080, it should print 805."
      ],
      "metadata": {
        "id": "0Qbyx0ZPQnQy"
      },
      "execution_count": 21,
      "outputs": []
    },
    {
      "cell_type": "code",
      "source": [
        "num=int(input(\"enter ur number\"))\n",
        "print(str(num)[::-1])"
      ],
      "metadata": {
        "colab": {
          "base_uri": "https://localhost:8080/"
        },
        "id": "bDnAG-2KQs5i",
        "outputId": "7ef54fa5-099d-4f4d-c06b-92850e64338b"
      },
      "execution_count": 25,
      "outputs": [
        {
          "output_type": "stream",
          "name": "stdout",
          "text": [
            "enter ur number6127381237\n",
            "7321837216\n"
          ]
        }
      ]
    },
    {
      "cell_type": "code",
      "source": [],
      "metadata": {
        "id": "TPUJnMgmV2X1"
      },
      "execution_count": null,
      "outputs": []
    },
    {
      "cell_type": "code",
      "source": [
        "# Question 4: Count Digits in a Number\n",
        "\n",
        "# Take an integer from the user and count how many digits it has\n",
        "count=0\n",
        "num=input(\"enter ur num\")\n",
        "for i in range(len(num)):\n",
        "  count+=1\n",
        "print(count)"
      ],
      "metadata": {
        "colab": {
          "base_uri": "https://localhost:8080/"
        },
        "id": "SUS3mNEzQtDS",
        "outputId": "0e1a1803-d57c-4296-c9aa-c084883cb6b9"
      },
      "execution_count": 36,
      "outputs": [
        {
          "output_type": "stream",
          "name": "stdout",
          "text": [
            "enter ur num237482938129032\n",
            "15\n"
          ]
        }
      ]
    },
    {
      "cell_type": "code",
      "source": [
        "# **Question 6: Find the Greatest Digit in a Number**\n",
        "\n",
        "# Take an integer input and find the largest digit in it.\n",
        "\n",
        "# Example: 59281 → output: 9"
      ],
      "metadata": {
        "id": "sszvErooTrIS"
      },
      "execution_count": null,
      "outputs": []
    },
    {
      "cell_type": "code",
      "source": [
        "num=input(\"enter ur num\")\n",
        "print(max(num))\n"
      ],
      "metadata": {
        "colab": {
          "base_uri": "https://localhost:8080/"
        },
        "id": "Lp9s1ZltTvwg",
        "outputId": "d5c11a88-b732-492c-e3f6-da4aed0f75a1"
      },
      "execution_count": 38,
      "outputs": [
        {
          "output_type": "stream",
          "name": "stdout",
          "text": [
            "enter ur num749283\n",
            "9\n"
          ]
        }
      ]
    },
    {
      "cell_type": "code",
      "source": [
        "num=input(\"enter ur num\")\n",
        "large_num=0\n",
        "for i in range(len(num)):\n",
        "  if num[i]>str(large_num):\n",
        "      large_num=num[i]\n",
        "print(large_num)\n"
      ],
      "metadata": {
        "colab": {
          "base_uri": "https://localhost:8080/"
        },
        "id": "22s241H-UMPn",
        "outputId": "a7d139e7-090e-4280-96c1-dfa483ccf8e1"
      },
      "execution_count": 42,
      "outputs": [
        {
          "output_type": "stream",
          "name": "stdout",
          "text": [
            "enter ur num97233489672264\n",
            "9\n"
          ]
        }
      ]
    },
    {
      "cell_type": "code",
      "source": [
        "# Question 8: Count Even and Odd Digits\n",
        "\n",
        "# Ask the user for a number and count how many even and odd digits it has."
      ],
      "metadata": {
        "id": "tUzKFzqFUuDR"
      },
      "execution_count": 43,
      "outputs": []
    },
    {
      "cell_type": "code",
      "source": [
        "num=input(\"enter ur num\")\n",
        "odd=0\n",
        "even=0\n",
        "for i in range(len(num)):\n",
        "  if int(num[i])%2==0:\n",
        "    even+=1\n",
        "  else:\n",
        "    odd+=1\n",
        "print(\"count of even\"\" & \"\"count of odd\",even,odd)"
      ],
      "metadata": {
        "colab": {
          "base_uri": "https://localhost:8080/"
        },
        "id": "oTDo5tSpU4B4",
        "outputId": "90cf2fd0-9552-49a3-a360-84f1d6697af9"
      },
      "execution_count": 50,
      "outputs": [
        {
          "output_type": "stream",
          "name": "stdout",
          "text": [
            "enter ur num2222\n",
            "count of even & count of odd 4 0\n"
          ]
        }
      ]
    },
    {
      "cell_type": "code",
      "source": [
        "# Question 7: Check if Number is Palindrome\n",
        "\n",
        "# A number is a palindrome if it reads the same forward and backward.\n",
        "\n",
        "# Example: 121, 444, 9889 → Palindrome\n",
        "\n",
        "# Ask user to input a number and check if it's a palindrome."
      ],
      "metadata": {
        "id": "v8m4fCsmVujy"
      },
      "execution_count": 51,
      "outputs": []
    },
    {
      "cell_type": "code",
      "source": [
        "num=input(\"enter ur number\")\n",
        "reverse_num=0\n",
        "for i in range(len(num)):\n",
        "  reverse_num=str(num)[::-1]\n",
        "if reverse_num==num:\n",
        "  print(\"its a palindrome\")\n",
        "else:\n",
        "  print(\"its not a palindrome\")"
      ],
      "metadata": {
        "colab": {
          "base_uri": "https://localhost:8080/"
        },
        "id": "eXV2STQwV3mC",
        "outputId": "8e5971c1-dbab-434d-cf82-cf1a479070ab"
      },
      "execution_count": 60,
      "outputs": [
        {
          "output_type": "stream",
          "name": "stdout",
          "text": [
            "enter ur number123\n",
            "its not a palindrome\n"
          ]
        }
      ]
    },
    {
      "cell_type": "code",
      "source": [
        "# Question 2: Ask the user to enter a word.\n",
        "\n",
        "# Print each character except vowels"
      ],
      "metadata": {
        "id": "pX2G1uerW2J1"
      },
      "execution_count": null,
      "outputs": []
    },
    {
      "cell_type": "code",
      "source": [
        "word=input(\"enter ur word\")\n",
        "vowels = {'a', 'e', 'i', 'o', 'u', 'A', 'E', 'I', 'O', 'U'}\n",
        "for i in word:\n",
        "  if i not in vowels:\n",
        "    print(i,end=\"\")\n",
        "print()"
      ],
      "metadata": {
        "colab": {
          "base_uri": "https://localhost:8080/"
        },
        "id": "26RTzGUwXU3y",
        "outputId": "c8cbb51c-7553-4fea-abb7-4b4f48197aec"
      },
      "execution_count": 69,
      "outputs": [
        {
          "output_type": "stream",
          "name": "stdout",
          "text": [
            "enter ur wordaeioufghk\n",
            "fghk\n"
          ]
        }
      ]
    }
  ]
}