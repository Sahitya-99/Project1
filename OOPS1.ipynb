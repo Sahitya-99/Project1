{
  "nbformat": 4,
  "nbformat_minor": 0,
  "metadata": {
    "colab": {
      "provenance": [],
      "authorship_tag": "ABX9TyPHKdaxUr1bLhoDNUr2fZND",
      "include_colab_link": true
    },
    "kernelspec": {
      "name": "python3",
      "display_name": "Python 3"
    },
    "language_info": {
      "name": "python"
    }
  },
  "cells": [
    {
      "cell_type": "markdown",
      "metadata": {
        "id": "view-in-github",
        "colab_type": "text"
      },
      "source": [
        "<a href=\"https://colab.research.google.com/github/Sahitya-99/Project1/blob/master/OOPS1.ipynb\" target=\"_parent\"><img src=\"https://colab.research.google.com/assets/colab-badge.svg\" alt=\"Open In Colab\"/></a>"
      ]
    },
    {
      "cell_type": "code",
      "execution_count": 2,
      "metadata": {
        "colab": {
          "base_uri": "https://localhost:8080/"
        },
        "id": "LI_OjjK9I6v1",
        "outputId": "15f724bf-3c00-4d54-df1f-83364db794dd"
      },
      "outputs": [
        {
          "output_type": "stream",
          "name": "stdout",
          "text": [
            "name is sah and age is 23\n"
          ]
        },
        {
          "output_type": "execute_result",
          "data": {
            "text/plain": [
              "<__main__.person at 0x7b04598faf10>"
            ]
          },
          "metadata": {},
          "execution_count": 2
        }
      ],
      "source": [
        "#Define a class Person with attributes name, age, and a method to print them\n",
        "class person:\n",
        "  def __init__(self,name,age):\n",
        "    self.name=name\n",
        "    self.age=age\n",
        "    return(print(f\"name is {name} and age is {age}\"))\n",
        "p1=person\n",
        "p1(\"sah\",23)"
      ]
    },
    {
      "cell_type": "code",
      "source": [
        "#Create a class Rectangle with methods to calculate area and perimeter.\n",
        "\n",
        "class rec:\n",
        "  def __init__(self,l,b):\n",
        "    self.l=l\n",
        "    self.b=b\n",
        "  def area(self):\n",
        "    print(f\"area is {self.l*self.b}\")\n",
        "  def per(self):\n",
        "    print(f\"perimeter is{2*(self.l+self.b)} \")\n",
        "\n",
        "\n",
        "r1=rec(20,2)\n",
        "print(r1.per())\n"
      ],
      "metadata": {
        "colab": {
          "base_uri": "https://localhost:8080/"
        },
        "id": "8xdRM4X4S6cM",
        "outputId": "69b1906b-14be-4540-afb1-7ff4eec5422d"
      },
      "execution_count": 8,
      "outputs": [
        {
          "output_type": "stream",
          "name": "stdout",
          "text": [
            "perimeter is44 \n",
            "None\n"
          ]
        }
      ]
    },
    {
      "cell_type": "code",
      "source": [
        "#Create a base class Vehicle and derive two classes Car and Bike. Add relevant attributes/methods.\n",
        "## INHERITENCAE WITH SUPER\n",
        "class Vehicle:\n",
        "  def __init__(self,speed):\n",
        "    self.speed=speed\n",
        "  def start_engine(self):\n",
        "    print(\"engine started\")\n",
        "\n",
        "  def stop_engine(self):\n",
        "    print(\"engine stopped\")\n",
        "\n",
        "class car(Vehicle):\n",
        "  def __init__(self, speed):\n",
        "    super().__init__(speed)\n",
        "    print(speed)\n",
        "\n",
        "c1=car(23)\n",
        "c1.start_engine()"
      ],
      "metadata": {
        "colab": {
          "base_uri": "https://localhost:8080/"
        },
        "id": "v_OCaXezS6qj",
        "outputId": "3c8d4749-8f57-4301-f43d-fc8f3ff69fe0"
      },
      "execution_count": 15,
      "outputs": [
        {
          "output_type": "stream",
          "name": "stdout",
          "text": [
            "23\n",
            "engine started\n"
          ]
        }
      ]
    },
    {
      "cell_type": "code",
      "source": [
        "#\n",
        "#INHERITENCE WITHOUT SUPER\n",
        "#Parent Class\n",
        "class Vehicle:\n",
        "    def __init__(self,brand,color):\n",
        "        self.brand=brand\n",
        "        self.color=color\n",
        "\n",
        "    def start(self):\n",
        "        print(f\"{self.brand} Vehicle Started\")\n",
        "\n",
        "    def stop(self):\n",
        "        print(f\"{self.brand} Vehicle Stopped\")\n",
        "\n",
        "\n",
        "# Create Child Class\n",
        "class Car(Vehicle):\n",
        "  def __init__(self,brand,color):\n",
        "    s\n",
        "    def start(self):\n",
        "        print(f\"This Start is from Class Car -Child class\")\n",
        "\n",
        "c1=Car(\"BMW\",\"Blue\")\n",
        "\n",
        "c1.start()"
      ],
      "metadata": {
        "colab": {
          "base_uri": "https://localhost:8080/"
        },
        "id": "7QBHDoMlXRCv",
        "outputId": "6eff56d4-1c6f-4318-b191-c889caebe0e1"
      },
      "execution_count": 10,
      "outputs": [
        {
          "output_type": "stream",
          "name": "stdout",
          "text": [
            "This Start is from Class Car -Child class\n"
          ]
        }
      ]
    }
  ]
}