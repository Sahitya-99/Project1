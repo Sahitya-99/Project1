{
  "nbformat": 4,
  "nbformat_minor": 0,
  "metadata": {
    "colab": {
      "provenance": [],
      "authorship_tag": "ABX9TyN6Rxr/QcNcjZHaTEgOdOWQ",
      "include_colab_link": true
    },
    "kernelspec": {
      "name": "python3",
      "display_name": "Python 3"
    },
    "language_info": {
      "name": "python"
    }
  },
  "cells": [
    {
      "cell_type": "markdown",
      "metadata": {
        "id": "view-in-github",
        "colab_type": "text"
      },
      "source": [
        "<a href=\"https://colab.research.google.com/github/Sahitya-99/Project1/blob/main/file_2.ipynb\" target=\"_parent\"><img src=\"https://colab.research.google.com/assets/colab-badge.svg\" alt=\"Open In Colab\"/></a>"
      ]
    },
    {
      "cell_type": "code",
      "execution_count": 3,
      "metadata": {
        "colab": {
          "base_uri": "https://localhost:8080/"
        },
        "id": "LadrBqFekDOf",
        "outputId": "e84453c6-2668-4c77-96bc-887e185963d1"
      },
      "outputs": [
        {
          "output_type": "stream",
          "name": "stdout",
          "text": [
            "i love ui \n"
          ]
        }
      ],
      "source": [
        "with open(\"sample.txt\",\"r\") as file:\n",
        "  print(file.read(10))"
      ]
    },
    {
      "cell_type": "code",
      "source": [
        "with open(\"sample.txt\",\"r\") as file:\n",
        "  print(file.readline())"
      ],
      "metadata": {
        "colab": {
          "base_uri": "https://localhost:8080/"
        },
        "id": "RkuYimxSlCwx",
        "outputId": "c35d66c6-b93d-4251-b890-66c85975f28d"
      },
      "execution_count": 4,
      "outputs": [
        {
          "output_type": "stream",
          "name": "stdout",
          "text": [
            "i love ui am sahi,i am vjhekfi wil jhj\n",
            "\n"
          ]
        }
      ]
    },
    {
      "cell_type": "code",
      "source": [
        "with open(\"sample.txt\",\"r\") as file:\n",
        "  print(file.readlines())"
      ],
      "metadata": {
        "colab": {
          "base_uri": "https://localhost:8080/"
        },
        "id": "UFf3F_gnlGtx",
        "outputId": "abf73ebc-970b-4b52-e89e-040757ba7c6d"
      },
      "execution_count": 5,
      "outputs": [
        {
          "output_type": "stream",
          "name": "stdout",
          "text": [
            "['i love ui am sahi,i am vjhekfi wil jhj\\n', 'kjnsdjdfjer\\n', 'hsdkjfdj\\\\kjdh   wejfh']\n"
          ]
        }
      ]
    },
    {
      "cell_type": "code",
      "source": [
        "with open(\"sample.txt\",\"r\") as file:\n",
        "  for line in file:\n",
        "    print(line.strip())"
      ],
      "metadata": {
        "colab": {
          "base_uri": "https://localhost:8080/"
        },
        "id": "Jy4vola1lU2L",
        "outputId": "92874388-ef73-4bfa-8dac-5f9a5f173e56"
      },
      "execution_count": 9,
      "outputs": [
        {
          "output_type": "stream",
          "name": "stdout",
          "text": [
            "i love ui am sahi,i am vjhekfi wil jhj\n",
            "kjnsdjdfjer\n",
            "hsdkjfdj\\kjdh   wejfh\n"
          ]
        }
      ]
    },
    {
      "cell_type": "code",
      "source": [
        "chunk_size=10\n",
        "with open(\"sample.txt\",\"r\") as file:\n",
        "  while True:\n",
        "    chunk=file.read(chunk_size)\n",
        "    if not chunk:\n",
        "      break\n",
        "    print(chunk)"
      ],
      "metadata": {
        "colab": {
          "base_uri": "https://localhost:8080/"
        },
        "id": "XOy0MD3rljSV",
        "outputId": "9f04a2fd-3530-465d-e1a3-5f664753d62e"
      },
      "execution_count": 11,
      "outputs": [
        {
          "output_type": "stream",
          "name": "stdout",
          "text": [
            "i love ui \n",
            "am sahi,i \n",
            "am vjhekfi\n",
            " wil jhj\n",
            "k\n",
            "jnsdjdfjer\n",
            "\n",
            "hsdkjfdj\\\n",
            "kjdh   wej\n",
            "fh\n"
          ]
        }
      ]
    },
    {
      "cell_type": "code",
      "source": [
        "with open(\"sample.txt\",\"r\") as file:   #### tell tells curret position of cursor seek moves the cursor position as specified\n",
        "  print(file.tell())\n",
        "  print(file.read(5))\n",
        "  print(file.tell())\n",
        "  file.seek(10)\n",
        "  print(file.read(5))\n",
        "  print(file.tell())\n",
        ""
      ],
      "metadata": {
        "colab": {
          "base_uri": "https://localhost:8080/"
        },
        "id": "NDDkmL-emUSb",
        "outputId": "4f545988-dbf3-4721-b8d1-12169ae67414"
      },
      "execution_count": 14,
      "outputs": [
        {
          "output_type": "stream",
          "name": "stdout",
          "text": [
            "0\n",
            "i lov\n",
            "5\n",
            "am sa\n",
            "15\n"
          ]
        }
      ]
    },
    {
      "cell_type": "code",
      "source": [
        "# Practice Questions\n",
        "# Open a file using \"r\" mode and print its contents using read().\n",
        "\n",
        "# Read and print only the first 7 characters using read(n).\n",
        "\n",
        "# Print the first 2 lines using readline() twice.\n",
        "\n",
        "# Use readlines() to count the number of lines.\n",
        "\n",
        "# Use a for loop to print lines starting with “Python”.\n",
        "\n",
        "# Try opening a non-existent file in 'r' mode – what error do you get?\n",
        "\n",
        "# Try opening a non-existent file in 'w' mode – what happens?\n",
        "\n",
        "# Which file mode should you use if you want to both read and write without overwriting existing content?"
      ],
      "metadata": {
        "colab": {
          "base_uri": "https://localhost:8080/"
        },
        "id": "OA-eAVJcnI4_",
        "outputId": "4adfb468-10c2-447a-91a3-45ed166e809c"
      },
      "execution_count": 16,
      "outputs": [
        {
          "output_type": "stream",
          "name": "stdout",
          "text": [
            "i love ui am sahi,i am vjhekfi wil jhj\n",
            "kjnsdjdfjer\n",
            "hsdkjfdj\\kjdh   wejfh\n"
          ]
        }
      ]
    },
    {
      "cell_type": "code",
      "source": [
        "with open(\"sample.txt\",'r') as file:\n",
        "  data=file.read()\n",
        "  print(repr(data))  #### repr() representation , how data is stored in bckend"
      ],
      "metadata": {
        "colab": {
          "base_uri": "https://localhost:8080/"
        },
        "id": "qMnzOxrun6po",
        "outputId": "17d1d56c-cb0f-4df7-82d3-1c1205b322ee"
      },
      "execution_count": 17,
      "outputs": [
        {
          "output_type": "stream",
          "name": "stdout",
          "text": [
            "'i love ui am sahi,i am vjhekfi wil jhj\\nkjnsdjdfjer\\nhsdkjfdj\\\\kjdh   wejfh'\n"
          ]
        }
      ]
    },
    {
      "cell_type": "code",
      "source": [
        "with open('sample.txt','r') as f:\n",
        "  while True:\n",
        "    line = f.readline()\n",
        "    if not line:\n",
        "      break\n",
        "    print(line)"
      ],
      "metadata": {
        "colab": {
          "base_uri": "https://localhost:8080/"
        },
        "id": "sUrt3J8Xn60o",
        "outputId": "b99b1e74-8dd0-4301-99e6-ec59cd29736f"
      },
      "execution_count": 24,
      "outputs": [
        {
          "output_type": "stream",
          "name": "stdout",
          "text": [
            "i love ui am sahi,i am vjhekfi wil jhj\n",
            "\n",
            "kjnsdjdfjer\n",
            "\n",
            "hsdkjfdj\\kjdh   wejfh\n"
          ]
        }
      ]
    },
    {
      "cell_type": "code",
      "source": [
        "# Print the first 2 lines using readline() twice\n",
        "with open('sample.txt','r') as f:\n",
        "  print(f.readline())\n",
        "  print(f.readline())"
      ],
      "metadata": {
        "colab": {
          "base_uri": "https://localhost:8080/"
        },
        "id": "1dXG37A8rwl5",
        "outputId": "d2487f58-c657-4e79-cf58-818604cdf6b9"
      },
      "execution_count": 25,
      "outputs": [
        {
          "output_type": "stream",
          "name": "stdout",
          "text": [
            "i love ui am sahi,i am vjhekfi wil jhj\n",
            "\n",
            "kjnsdjdfjer\n",
            "\n"
          ]
        }
      ]
    },
    {
      "cell_type": "code",
      "source": [],
      "metadata": {
        "colab": {
          "base_uri": "https://localhost:8080/",
          "height": 158
        },
        "id": "rGFpBMnan64S",
        "outputId": "198dac43-d8bc-45e8-94d3-f1622b633462"
      },
      "execution_count": 26,
      "outputs": [
        {
          "output_type": "error",
          "ename": "FileNotFoundError",
          "evalue": "[Errno 2] No such file or directory: 'con.txt'",
          "traceback": [
            "\u001b[0;31m---------------------------------------------------------------------------\u001b[0m",
            "\u001b[0;31mFileNotFoundError\u001b[0m                         Traceback (most recent call last)",
            "\u001b[0;32m/tmp/ipython-input-2361931007.py\u001b[0m in \u001b[0;36m<cell line: 0>\u001b[0;34m()\u001b[0m\n\u001b[0;32m----> 1\u001b[0;31m \u001b[0;32mwith\u001b[0m \u001b[0mopen\u001b[0m\u001b[0;34m(\u001b[0m\u001b[0;34m'con.txt'\u001b[0m\u001b[0;34m,\u001b[0m\u001b[0;34m'r'\u001b[0m\u001b[0;34m)\u001b[0m \u001b[0;32mas\u001b[0m \u001b[0mf\u001b[0m\u001b[0;34m:\u001b[0m\u001b[0;34m\u001b[0m\u001b[0;34m\u001b[0m\u001b[0m\n\u001b[0m\u001b[1;32m      2\u001b[0m   \u001b[0mprint\u001b[0m\u001b[0;34m(\u001b[0m\u001b[0mf\u001b[0m\u001b[0;34m.\u001b[0m\u001b[0mread\u001b[0m\u001b[0;34m(\u001b[0m\u001b[0;34m)\u001b[0m\u001b[0;34m)\u001b[0m\u001b[0;34m\u001b[0m\u001b[0;34m\u001b[0m\u001b[0m\n",
            "\u001b[0;31mFileNotFoundError\u001b[0m: [Errno 2] No such file or directory: 'con.txt'"
          ]
        }
      ]
    },
    {
      "cell_type": "code",
      "source": [],
      "metadata": {
        "id": "wxsrJ9YZn67O"
      },
      "execution_count": null,
      "outputs": []
    },
    {
      "cell_type": "code",
      "source": [],
      "metadata": {
        "id": "oXs-rTJLn699"
      },
      "execution_count": null,
      "outputs": []
    },
    {
      "cell_type": "code",
      "source": [],
      "metadata": {
        "id": "35LKaelMn7Am"
      },
      "execution_count": null,
      "outputs": []
    },
    {
      "cell_type": "code",
      "source": [],
      "metadata": {
        "id": "kLflfHtvn7Di"
      },
      "execution_count": null,
      "outputs": []
    },
    {
      "cell_type": "code",
      "source": [],
      "metadata": {
        "id": "TKJhyURbn7GI"
      },
      "execution_count": null,
      "outputs": []
    },
    {
      "cell_type": "code",
      "source": [],
      "metadata": {
        "id": "N4Ll97Epn7I-"
      },
      "execution_count": null,
      "outputs": []
    },
    {
      "cell_type": "code",
      "source": [],
      "metadata": {
        "id": "Sv9o1gJkn7Ll"
      },
      "execution_count": null,
      "outputs": []
    },
    {
      "cell_type": "code",
      "source": [],
      "metadata": {
        "id": "9hDvAqdcn7OV"
      },
      "execution_count": null,
      "outputs": []
    },
    {
      "cell_type": "code",
      "source": [],
      "metadata": {
        "id": "-SCUy1HPn7RF"
      },
      "execution_count": null,
      "outputs": []
    },
    {
      "cell_type": "code",
      "source": [],
      "metadata": {
        "id": "5saCmv4qn7T6"
      },
      "execution_count": null,
      "outputs": []
    },
    {
      "cell_type": "code",
      "source": [],
      "metadata": {
        "id": "DQsx-3aBn7W7"
      },
      "execution_count": null,
      "outputs": []
    },
    {
      "cell_type": "code",
      "source": [],
      "metadata": {
        "id": "Jaqx3Ttvn7Zp"
      },
      "execution_count": null,
      "outputs": []
    },
    {
      "cell_type": "code",
      "source": [],
      "metadata": {
        "id": "YvtNImDXn7cP"
      },
      "execution_count": null,
      "outputs": []
    },
    {
      "cell_type": "code",
      "source": [],
      "metadata": {
        "id": "TAkE7viLn7fp"
      },
      "execution_count": null,
      "outputs": []
    },
    {
      "cell_type": "code",
      "source": [],
      "metadata": {
        "id": "56Y5PPzin7jI"
      },
      "execution_count": null,
      "outputs": []
    }
  ]
}